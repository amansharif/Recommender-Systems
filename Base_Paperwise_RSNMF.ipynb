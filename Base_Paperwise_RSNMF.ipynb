{
 "cells": [
  {
   "cell_type": "code",
   "execution_count": 1,
   "metadata": {},
   "outputs": [],
   "source": [
    "import numpy as np\n",
    "import pandas as pd"
   ]
  },
  {
   "cell_type": "markdown",
   "metadata": {},
   "source": [
    "## Creation of R matrix (User-Item rating matrix)"
   ]
  },
  {
   "cell_type": "code",
   "execution_count": 2,
   "metadata": {},
   "outputs": [],
   "source": [
    "x = np.array([[5,0,4,0,3,3],\n",
    "            [0,4,0,0,3,0],\n",
    "            [3,0,0,3,0,0],\n",
    "            [0,4,0,5,0,1]])"
   ]
  },
  {
   "cell_type": "code",
   "execution_count": 3,
   "metadata": {},
   "outputs": [
    {
     "data": {
      "text/html": [
       "<div>\n",
       "<style scoped>\n",
       "    .dataframe tbody tr th:only-of-type {\n",
       "        vertical-align: middle;\n",
       "    }\n",
       "\n",
       "    .dataframe tbody tr th {\n",
       "        vertical-align: top;\n",
       "    }\n",
       "\n",
       "    .dataframe thead th {\n",
       "        text-align: right;\n",
       "    }\n",
       "</style>\n",
       "<table border=\"1\" class=\"dataframe\">\n",
       "  <thead>\n",
       "    <tr style=\"text-align: right;\">\n",
       "      <th></th>\n",
       "      <th>1</th>\n",
       "      <th>2</th>\n",
       "      <th>3</th>\n",
       "      <th>4</th>\n",
       "      <th>5</th>\n",
       "      <th>6</th>\n",
       "    </tr>\n",
       "  </thead>\n",
       "  <tbody>\n",
       "    <tr>\n",
       "      <th>1</th>\n",
       "      <td>5</td>\n",
       "      <td>0</td>\n",
       "      <td>4</td>\n",
       "      <td>0</td>\n",
       "      <td>3</td>\n",
       "      <td>3</td>\n",
       "    </tr>\n",
       "    <tr>\n",
       "      <th>2</th>\n",
       "      <td>0</td>\n",
       "      <td>4</td>\n",
       "      <td>0</td>\n",
       "      <td>0</td>\n",
       "      <td>3</td>\n",
       "      <td>0</td>\n",
       "    </tr>\n",
       "    <tr>\n",
       "      <th>3</th>\n",
       "      <td>3</td>\n",
       "      <td>0</td>\n",
       "      <td>0</td>\n",
       "      <td>3</td>\n",
       "      <td>0</td>\n",
       "      <td>0</td>\n",
       "    </tr>\n",
       "    <tr>\n",
       "      <th>4</th>\n",
       "      <td>0</td>\n",
       "      <td>4</td>\n",
       "      <td>0</td>\n",
       "      <td>5</td>\n",
       "      <td>0</td>\n",
       "      <td>1</td>\n",
       "    </tr>\n",
       "  </tbody>\n",
       "</table>\n",
       "</div>"
      ],
      "text/plain": [
       "   1  2  3  4  5  6\n",
       "1  5  0  4  0  3  3\n",
       "2  0  4  0  0  3  0\n",
       "3  3  0  0  3  0  0\n",
       "4  0  4  0  5  0  1"
      ]
     },
     "execution_count": 3,
     "metadata": {},
     "output_type": "execute_result"
    }
   ],
   "source": [
    "Data = pd.DataFrame(data=x, index=[1,2,3,4], columns=[1,2,3,4,5,6])\n",
    "Data"
   ]
  },
  {
   "cell_type": "code",
   "execution_count": 4,
   "metadata": {},
   "outputs": [
    {
     "data": {
      "text/plain": [
       "matrix([[5, 0, 4, 0, 3, 3],\n",
       "        [0, 4, 0, 0, 3, 0],\n",
       "        [3, 0, 0, 3, 0, 0],\n",
       "        [0, 4, 0, 5, 0, 1]])"
      ]
     },
     "execution_count": 4,
     "metadata": {},
     "output_type": "execute_result"
    }
   ],
   "source": [
    "R = np.asmatrix(x)\n",
    "R"
   ]
  },
  {
   "cell_type": "code",
   "execution_count": 5,
   "metadata": {},
   "outputs": [],
   "source": [
    "R_arr = np.array(R)"
   ]
  },
  {
   "cell_type": "markdown",
   "metadata": {},
   "source": [
    "## Initialization of f i.e. low rank"
   ]
  },
  {
   "cell_type": "markdown",
   "metadata": {},
   "source": [
    "## U is No of users in User-Item rating matrix\n",
    "## I is No of items User-Item rating matrix"
   ]
  },
  {
   "cell_type": "code",
   "execution_count": 6,
   "metadata": {},
   "outputs": [],
   "source": [
    "U,I = R.shape\n",
    "f = 3"
   ]
  },
  {
   "cell_type": "markdown",
   "metadata": {},
   "source": [
    "## Factor matrices initialization randomly"
   ]
  },
  {
   "cell_type": "code",
   "execution_count": 7,
   "metadata": {},
   "outputs": [],
   "source": [
    "#p = np.random.rand(U,f)\n",
    "#q = np.random.rand(f,I)\n",
    "p = np.array([[0.11,0.07,0.19],\n",
    "            [0.09,0.16,0.19],\n",
    "            [0.09,0.05,0.04],\n",
    "            [0.03,0.13,0.18]])\n",
    "q = np.array([[0.16,0.01,0.07,0.17,0.02,0.20],\n",
    "             [0.18,0.19,0.10,0.05,0.18,0.15],\n",
    "             [0.02,0.18,0.03,0.14,0.17,0.06]])"
   ]
  },
  {
   "cell_type": "code",
   "execution_count": 8,
   "metadata": {},
   "outputs": [],
   "source": [
    "P = np.asmatrix(p)\n",
    "Q = np.asmatrix(q)"
   ]
  },
  {
   "cell_type": "code",
   "execution_count": 9,
   "metadata": {},
   "outputs": [
    {
     "data": {
      "text/html": [
       "<div>\n",
       "<style scoped>\n",
       "    .dataframe tbody tr th:only-of-type {\n",
       "        vertical-align: middle;\n",
       "    }\n",
       "\n",
       "    .dataframe tbody tr th {\n",
       "        vertical-align: top;\n",
       "    }\n",
       "\n",
       "    .dataframe thead th {\n",
       "        text-align: right;\n",
       "    }\n",
       "</style>\n",
       "<table border=\"1\" class=\"dataframe\">\n",
       "  <thead>\n",
       "    <tr style=\"text-align: right;\">\n",
       "      <th></th>\n",
       "      <th>1</th>\n",
       "      <th>2</th>\n",
       "      <th>3</th>\n",
       "    </tr>\n",
       "  </thead>\n",
       "  <tbody>\n",
       "    <tr>\n",
       "      <th>1</th>\n",
       "      <td>0.11</td>\n",
       "      <td>0.07</td>\n",
       "      <td>0.19</td>\n",
       "    </tr>\n",
       "    <tr>\n",
       "      <th>2</th>\n",
       "      <td>0.09</td>\n",
       "      <td>0.16</td>\n",
       "      <td>0.19</td>\n",
       "    </tr>\n",
       "    <tr>\n",
       "      <th>3</th>\n",
       "      <td>0.09</td>\n",
       "      <td>0.05</td>\n",
       "      <td>0.04</td>\n",
       "    </tr>\n",
       "    <tr>\n",
       "      <th>4</th>\n",
       "      <td>0.03</td>\n",
       "      <td>0.13</td>\n",
       "      <td>0.18</td>\n",
       "    </tr>\n",
       "  </tbody>\n",
       "</table>\n",
       "</div>"
      ],
      "text/plain": [
       "      1     2     3\n",
       "1  0.11  0.07  0.19\n",
       "2  0.09  0.16  0.19\n",
       "3  0.09  0.05  0.04\n",
       "4  0.03  0.13  0.18"
      ]
     },
     "execution_count": 9,
     "metadata": {},
     "output_type": "execute_result"
    }
   ],
   "source": [
    "pd.DataFrame(data=P, index=[1,2,3,4], columns=[1,2,3])"
   ]
  },
  {
   "cell_type": "code",
   "execution_count": 10,
   "metadata": {},
   "outputs": [
    {
     "data": {
      "text/html": [
       "<div>\n",
       "<style scoped>\n",
       "    .dataframe tbody tr th:only-of-type {\n",
       "        vertical-align: middle;\n",
       "    }\n",
       "\n",
       "    .dataframe tbody tr th {\n",
       "        vertical-align: top;\n",
       "    }\n",
       "\n",
       "    .dataframe thead th {\n",
       "        text-align: right;\n",
       "    }\n",
       "</style>\n",
       "<table border=\"1\" class=\"dataframe\">\n",
       "  <thead>\n",
       "    <tr style=\"text-align: right;\">\n",
       "      <th></th>\n",
       "      <th>1</th>\n",
       "      <th>2</th>\n",
       "      <th>3</th>\n",
       "      <th>4</th>\n",
       "      <th>5</th>\n",
       "      <th>6</th>\n",
       "    </tr>\n",
       "  </thead>\n",
       "  <tbody>\n",
       "    <tr>\n",
       "      <th>1</th>\n",
       "      <td>0.16</td>\n",
       "      <td>0.01</td>\n",
       "      <td>0.07</td>\n",
       "      <td>0.17</td>\n",
       "      <td>0.02</td>\n",
       "      <td>0.20</td>\n",
       "    </tr>\n",
       "    <tr>\n",
       "      <th>2</th>\n",
       "      <td>0.18</td>\n",
       "      <td>0.19</td>\n",
       "      <td>0.10</td>\n",
       "      <td>0.05</td>\n",
       "      <td>0.18</td>\n",
       "      <td>0.15</td>\n",
       "    </tr>\n",
       "    <tr>\n",
       "      <th>3</th>\n",
       "      <td>0.02</td>\n",
       "      <td>0.18</td>\n",
       "      <td>0.03</td>\n",
       "      <td>0.14</td>\n",
       "      <td>0.17</td>\n",
       "      <td>0.06</td>\n",
       "    </tr>\n",
       "  </tbody>\n",
       "</table>\n",
       "</div>"
      ],
      "text/plain": [
       "      1     2     3     4     5     6\n",
       "1  0.16  0.01  0.07  0.17  0.02  0.20\n",
       "2  0.18  0.19  0.10  0.05  0.18  0.15\n",
       "3  0.02  0.18  0.03  0.14  0.17  0.06"
      ]
     },
     "execution_count": 10,
     "metadata": {},
     "output_type": "execute_result"
    }
   ],
   "source": [
    "pd.DataFrame(data=Q, index=[1,2,3], columns=[1,2,3,4,5,6])"
   ]
  },
  {
   "cell_type": "markdown",
   "metadata": {},
   "source": [
    "## Regularization Coefficient initialization"
   ]
  },
  {
   "cell_type": "code",
   "execution_count": 11,
   "metadata": {},
   "outputs": [],
   "source": [
    "lambda_p = 0.06\n",
    "lambda_q = 0.06"
   ]
  },
  {
   "cell_type": "markdown",
   "metadata": {},
   "source": [
    "## Setting maximum training round"
   ]
  },
  {
   "cell_type": "code",
   "execution_count": 12,
   "metadata": {},
   "outputs": [],
   "source": [
    "t = 1\n",
    "max_training_round = 100"
   ]
  },
  {
   "cell_type": "markdown",
   "metadata": {},
   "source": [
    "## Simple error measure (Sum of elementwise squared error)"
   ]
  },
  {
   "cell_type": "code",
   "execution_count": 13,
   "metadata": {},
   "outputs": [],
   "source": [
    "def get_error(R, P, Q):\n",
    "    return np.sum(np.square(R - np.dot(P,Q)))"
   ]
  },
  {
   "cell_type": "markdown",
   "metadata": {},
   "source": [
    "## Auxiliary matrix to determine Ui and Iu"
   ]
  },
  {
   "cell_type": "code",
   "execution_count": 23,
   "metadata": {},
   "outputs": [],
   "source": [
    "W = R>0.01\n",
    "W[W == True] = 1\n",
    "W[W == False] = 0\n",
    "# To be consistent with our Q matrix\n",
    "W = W.astype(np.int64, copy=False)"
   ]
  },
  {
   "cell_type": "code",
   "execution_count": 14,
   "metadata": {},
   "outputs": [],
   "source": [
    "l2 = lambda x : np.sqrt(sum(x**2))"
   ]
  },
  {
   "cell_type": "markdown",
   "metadata": {},
   "source": [
    "## Counting no of users who rated item i"
   ]
  },
  {
   "cell_type": "code",
   "execution_count": 24,
   "metadata": {},
   "outputs": [],
   "source": [
    "Ui = []\n",
    "for iterator in range(I):\n",
    "    Ui.append(W[:,iterator].sum())"
   ]
  },
  {
   "cell_type": "code",
   "execution_count": null,
   "metadata": {},
   "outputs": [],
   "source": [
    "R.T"
   ]
  },
  {
   "cell_type": "code",
   "execution_count": 28,
   "metadata": {},
   "outputs": [],
   "source": [
    "Ui = l2(R_arr)"
   ]
  },
  {
   "cell_type": "markdown",
   "metadata": {},
   "source": [
    "## Counting no of items which was being rated by user u"
   ]
  },
  {
   "cell_type": "code",
   "execution_count": 25,
   "metadata": {},
   "outputs": [],
   "source": [
    "Iu = []\n",
    "for iterator in range(U):\n",
    "    Iu.append(W[iterator].sum())"
   ]
  },
  {
   "cell_type": "code",
   "execution_count": 29,
   "metadata": {},
   "outputs": [],
   "source": [
    "Iu = l2(R_arr.T)"
   ]
  },
  {
   "cell_type": "code",
   "execution_count": 30,
   "metadata": {},
   "outputs": [
    {
     "data": {
      "text/plain": [
       "6"
      ]
     },
     "execution_count": 30,
     "metadata": {},
     "output_type": "execute_result"
    }
   ],
   "source": [
    "len(Ui)"
   ]
  },
  {
   "cell_type": "code",
   "execution_count": 31,
   "metadata": {},
   "outputs": [
    {
     "data": {
      "text/plain": [
       "4"
      ]
     },
     "execution_count": 31,
     "metadata": {},
     "output_type": "execute_result"
    }
   ],
   "source": [
    "len(Iu)"
   ]
  },
  {
   "cell_type": "code",
   "execution_count": 32,
   "metadata": {},
   "outputs": [
    {
     "data": {
      "text/plain": [
       "array([5.83095189, 5.65685425, 4.        , 5.83095189, 4.24264069,\n",
       "       3.16227766])"
      ]
     },
     "execution_count": 32,
     "metadata": {},
     "output_type": "execute_result"
    }
   ],
   "source": [
    "Ui"
   ]
  },
  {
   "cell_type": "code",
   "execution_count": 33,
   "metadata": {},
   "outputs": [
    {
     "data": {
      "text/plain": [
       "array([7.68114575, 5.        , 4.24264069, 6.4807407 ])"
      ]
     },
     "execution_count": 33,
     "metadata": {},
     "output_type": "execute_result"
    }
   ],
   "source": [
    "Iu"
   ]
  },
  {
   "cell_type": "markdown",
   "metadata": {},
   "source": [
    "## RSNMF"
   ]
  },
  {
   "cell_type": "code",
   "execution_count": 34,
   "metadata": {},
   "outputs": [],
   "source": [
    "error = []\n",
    "while t <= max_training_round:\n",
    "    UserUp = np.zeros((U,f), dtype=float)\n",
    "    UserDown = np.zeros((U,f), dtype=float)\n",
    "    ItemUp = np.zeros((f,I), dtype=float)\n",
    "    ItemDown = np.zeros((f,I), dtype=float)\n",
    "    for u in range(U):\n",
    "        for i in range(I):\n",
    "            if(R[u,i] != 0):\n",
    "                rui_cap = P[u,:]*Q[:,i]\n",
    "                for k in range(f):\n",
    "                    UserUp[u,k] = UserUp[u,k] + Q[k,i] * R[u,i]\n",
    "                    UserDown[u,k] = UserDown[u,k] + Q[k,i] * rui_cap\n",
    "                    ItemUp[k,i] = ItemUp[k,i] + P[u,k] * R[u,i]\n",
    "                    ItemDown[k,i] = ItemDown[k,i] + P[u,k]*rui_cap\n",
    "    for u in range(U):\n",
    "        for k in range(f):\n",
    "            UserDown[u,k] = UserDown[u,k] + Iu[u] * lambda_p * P[u,k]\n",
    "            P[u,k] = P[u,k] * (UserUp[u,k]/UserDown[u,k])\n",
    "    for i in range(I):\n",
    "        for k in range(f):\n",
    "            ItemDown[k,i] = ItemDown[k,i] + Ui[i] * lambda_q * Q[k,i]\n",
    "            Q[k,i] = Q[k,i] * (ItemUp[k,i]/ItemDown[k,i])\n",
    "    error.append(get_error(R, P, Q))\n",
    "    #print('{}th epoch is completed'.format(t))\n",
    "    t = t+1"
   ]
  },
  {
   "cell_type": "markdown",
   "metadata": {},
   "source": [
    "## No of training epoch"
   ]
  },
  {
   "cell_type": "code",
   "execution_count": 35,
   "metadata": {},
   "outputs": [
    {
     "name": "stdout",
     "output_type": "stream",
     "text": [
      "No of training epoch : 100\n"
     ]
    }
   ],
   "source": [
    "print(\"No of training epoch : %d\"%max_training_round)"
   ]
  },
  {
   "cell_type": "markdown",
   "metadata": {},
   "source": [
    "## You could check the values by solving it by hand "
   ]
  },
  {
   "cell_type": "code",
   "execution_count": 36,
   "metadata": {},
   "outputs": [
    {
     "data": {
      "text/html": [
       "<div>\n",
       "<style scoped>\n",
       "    .dataframe tbody tr th:only-of-type {\n",
       "        vertical-align: middle;\n",
       "    }\n",
       "\n",
       "    .dataframe tbody tr th {\n",
       "        vertical-align: top;\n",
       "    }\n",
       "\n",
       "    .dataframe thead th {\n",
       "        text-align: right;\n",
       "    }\n",
       "</style>\n",
       "<table border=\"1\" class=\"dataframe\">\n",
       "  <thead>\n",
       "    <tr style=\"text-align: right;\">\n",
       "      <th></th>\n",
       "      <th>1</th>\n",
       "      <th>2</th>\n",
       "      <th>3</th>\n",
       "    </tr>\n",
       "  </thead>\n",
       "  <tbody>\n",
       "    <tr>\n",
       "      <th>1</th>\n",
       "      <td>1.626711</td>\n",
       "      <td>1.287679</td>\n",
       "      <td>1.001976</td>\n",
       "    </tr>\n",
       "    <tr>\n",
       "      <th>2</th>\n",
       "      <td>0.332787</td>\n",
       "      <td>1.298760</td>\n",
       "      <td>1.513618</td>\n",
       "    </tr>\n",
       "    <tr>\n",
       "      <th>3</th>\n",
       "      <td>0.730927</td>\n",
       "      <td>0.814009</td>\n",
       "      <td>0.926897</td>\n",
       "    </tr>\n",
       "    <tr>\n",
       "      <th>4</th>\n",
       "      <td>0.200247</td>\n",
       "      <td>1.087277</td>\n",
       "      <td>1.808322</td>\n",
       "    </tr>\n",
       "  </tbody>\n",
       "</table>\n",
       "</div>"
      ],
      "text/plain": [
       "          1         2         3\n",
       "1  1.626711  1.287679  1.001976\n",
       "2  0.332787  1.298760  1.513618\n",
       "3  0.730927  0.814009  0.926897\n",
       "4  0.200247  1.087277  1.808322"
      ]
     },
     "execution_count": 36,
     "metadata": {},
     "output_type": "execute_result"
    }
   ],
   "source": [
    "pd.DataFrame(data=P, index=[1,2,3,4], columns=[1,2,3])"
   ]
  },
  {
   "cell_type": "code",
   "execution_count": 37,
   "metadata": {},
   "outputs": [
    {
     "data": {
      "text/html": [
       "<div>\n",
       "<style scoped>\n",
       "    .dataframe tbody tr th:only-of-type {\n",
       "        vertical-align: middle;\n",
       "    }\n",
       "\n",
       "    .dataframe tbody tr th {\n",
       "        vertical-align: top;\n",
       "    }\n",
       "\n",
       "    .dataframe thead th {\n",
       "        text-align: right;\n",
       "    }\n",
       "</style>\n",
       "<table border=\"1\" class=\"dataframe\">\n",
       "  <thead>\n",
       "    <tr style=\"text-align: right;\">\n",
       "      <th></th>\n",
       "      <th>1</th>\n",
       "      <th>2</th>\n",
       "      <th>3</th>\n",
       "      <th>4</th>\n",
       "      <th>5</th>\n",
       "      <th>6</th>\n",
       "    </tr>\n",
       "  </thead>\n",
       "  <tbody>\n",
       "    <tr>\n",
       "      <th>1</th>\n",
       "      <td>1.381457</td>\n",
       "      <td>0.247884</td>\n",
       "      <td>1.161438</td>\n",
       "      <td>0.372386</td>\n",
       "      <td>0.447889</td>\n",
       "      <td>1.218432</td>\n",
       "    </tr>\n",
       "    <tr>\n",
       "      <th>2</th>\n",
       "      <td>1.159731</td>\n",
       "      <td>1.152045</td>\n",
       "      <td>0.924362</td>\n",
       "      <td>1.161127</td>\n",
       "      <td>0.960357</td>\n",
       "      <td>0.602987</td>\n",
       "    </tr>\n",
       "    <tr>\n",
       "      <th>3</th>\n",
       "      <td>1.009681</td>\n",
       "      <td>1.447950</td>\n",
       "      <td>0.745730</td>\n",
       "      <td>1.847967</td>\n",
       "      <td>0.976423</td>\n",
       "      <td>0.092706</td>\n",
       "    </tr>\n",
       "  </tbody>\n",
       "</table>\n",
       "</div>"
      ],
      "text/plain": [
       "          1         2         3         4         5         6\n",
       "1  1.381457  0.247884  1.161438  0.372386  0.447889  1.218432\n",
       "2  1.159731  1.152045  0.924362  1.161127  0.960357  0.602987\n",
       "3  1.009681  1.447950  0.745730  1.847967  0.976423  0.092706"
      ]
     },
     "execution_count": 37,
     "metadata": {},
     "output_type": "execute_result"
    }
   ],
   "source": [
    "pd.DataFrame(data=Q, index=[1,2,3], columns=[1,2,3,4,5,6])"
   ]
  },
  {
   "cell_type": "code",
   "execution_count": 38,
   "metadata": {},
   "outputs": [
    {
     "data": {
      "text/html": [
       "<div>\n",
       "<style scoped>\n",
       "    .dataframe tbody tr th:only-of-type {\n",
       "        vertical-align: middle;\n",
       "    }\n",
       "\n",
       "    .dataframe tbody tr th {\n",
       "        vertical-align: top;\n",
       "    }\n",
       "\n",
       "    .dataframe thead th {\n",
       "        text-align: right;\n",
       "    }\n",
       "</style>\n",
       "<table border=\"1\" class=\"dataframe\">\n",
       "  <thead>\n",
       "    <tr style=\"text-align: right;\">\n",
       "      <th></th>\n",
       "      <th>1</th>\n",
       "      <th>2</th>\n",
       "      <th>3</th>\n",
       "      <th>4</th>\n",
       "      <th>5</th>\n",
       "      <th>6</th>\n",
       "    </tr>\n",
       "  </thead>\n",
       "  <tbody>\n",
       "    <tr>\n",
       "      <th>1</th>\n",
       "      <td>4.752269</td>\n",
       "      <td>3.337511</td>\n",
       "      <td>3.826808</td>\n",
       "      <td>3.952542</td>\n",
       "      <td>2.943570</td>\n",
       "      <td>2.851379</td>\n",
       "    </tr>\n",
       "    <tr>\n",
       "      <th>2</th>\n",
       "      <td>3.494214</td>\n",
       "      <td>3.770365</td>\n",
       "      <td>2.715784</td>\n",
       "      <td>4.429065</td>\n",
       "      <td>2.874256</td>\n",
       "      <td>1.328934</td>\n",
       "    </tr>\n",
       "    <tr>\n",
       "      <th>3</th>\n",
       "      <td>2.889646</td>\n",
       "      <td>2.461060</td>\n",
       "      <td>2.292579</td>\n",
       "      <td>2.930229</td>\n",
       "      <td>2.014156</td>\n",
       "      <td>1.467350</td>\n",
       "    </tr>\n",
       "    <tr>\n",
       "      <th>4</th>\n",
       "      <td>3.363411</td>\n",
       "      <td>3.920590</td>\n",
       "      <td>2.586131</td>\n",
       "      <td>4.678755</td>\n",
       "      <td>2.899550</td>\n",
       "      <td>1.067244</td>\n",
       "    </tr>\n",
       "  </tbody>\n",
       "</table>\n",
       "</div>"
      ],
      "text/plain": [
       "          1         2         3         4         5         6\n",
       "1  4.752269  3.337511  3.826808  3.952542  2.943570  2.851379\n",
       "2  3.494214  3.770365  2.715784  4.429065  2.874256  1.328934\n",
       "3  2.889646  2.461060  2.292579  2.930229  2.014156  1.467350\n",
       "4  3.363411  3.920590  2.586131  4.678755  2.899550  1.067244"
      ]
     },
     "execution_count": 38,
     "metadata": {},
     "output_type": "execute_result"
    }
   ],
   "source": [
    "rp = np.dot(P,Q)\n",
    "R_estimated = pd.DataFrame(data=rp, index=[1,2,3,4], columns=[1,2,3,4,5,6])\n",
    "R_estimated.head()"
   ]
  },
  {
   "cell_type": "code",
   "execution_count": 39,
   "metadata": {},
   "outputs": [
    {
     "name": "stdout",
     "output_type": "stream",
     "text": [
      "Total error of rated movies: 111.97620181864559\n"
     ]
    }
   ],
   "source": [
    "print('Total error of rated movies: {}'.format(get_error(R,P,Q)))"
   ]
  },
  {
   "cell_type": "markdown",
   "metadata": {},
   "source": [
    "## Error graph"
   ]
  },
  {
   "cell_type": "code",
   "execution_count": 40,
   "metadata": {},
   "outputs": [],
   "source": [
    "import matplotlib.pyplot as plt"
   ]
  },
  {
   "cell_type": "code",
   "execution_count": 41,
   "metadata": {},
   "outputs": [
    {
     "data": {
      "image/png": "[encoded data removed]",
      "text/plain": [
       "<matplotlib.figure.Figure at 0x19caa812c50>"
      ]
     },
     "metadata": {
      "needs_background": "light"
     },
     "output_type": "display_data"
    }
   ],
   "source": [
    "plt.plot(error);\n",
    "plt.xlabel('Iteration Number');\n",
    "plt.ylabel('Sum of Squared Error');"
   ]
  },
  {
   "cell_type": "code",
   "execution_count": 42,
   "metadata": {},
   "outputs": [
    {
     "data": {
      "text/plain": [
       "[82.72553034625035,\n",
       " 1124.2342991137998,\n",
       " 73.4677806731767,\n",
       " 717.4042922837602,\n",
       " 69.23019506545775,\n",
       " 505.8826008266523,\n",
       " 68.01974918875938,\n",
       " 383.10351203143557,\n",
       " 68.8869609706766,\n",
       " 306.30489879655124,\n",
       " 71.15168393389403,\n",
       " 255.5951624126963,\n",
       " 74.28866884524078,\n",
       " 220.70637979181566,\n",
       " 77.89620386462892,\n",
       " 195.91129779436892,\n",
       " 81.67685443636245,\n",
       " 177.81976420437564,\n",
       " 85.41994941632875,\n",
       " 164.32854476068349,\n",
       " 88.9847627537385,\n",
       " 154.08194384142726,\n",
       " 92.28493395603005,\n",
       " 146.17771239058413,\n",
       " 95.27474649951552,\n",
       " 139.99872989824777,\n",
       " 97.93761736330522,\n",
       " 135.1127321862731,\n",
       " 100.276859069846,\n",
       " 131.21052405080263,\n",
       " 102.3085582140849,\n",
       " 128.06678495635092,\n",
       " 104.05628983082494,\n",
       " 125.51456728696984,\n",
       " 105.54733975098351,\n",
       " 123.4283251415851,\n",
       " 106.81011241794805,\n",
       " 121.71238821719385,\n",
       " 107.8724364791765,\n",
       " 120.29298727550429,\n",
       " 108.76052779514367,\n",
       " 119.112641784704,\n",
       " 109.49841846118535,\n",
       " 118.12614689796413,\n",
       " 110.10770507518711,\n",
       " 117.29766124312393,\n",
       " 110.60750722494167,\n",
       " 116.59856410840547,\n",
       " 111.01455747395966,\n",
       " 116.00585820534623,\n",
       " 111.34336754171292,\n",
       " 115.50096462504064,\n",
       " 111.60643292399311,\n",
       " 115.06880341800114,\n",
       " 111.81445101438902,\n",
       " 114.69708478295671,\n",
       " 111.97653692819875,\n",
       " 114.37575739984023,\n",
       " 112.10042760116126,\n",
       " 114.09657534170063,\n",
       " 112.1926690696323,\n",
       " 113.85275542278796,\n",
       " 112.25878470611218,\n",
       " 113.63870421293676,\n",
       " 112.3034240151859,\n",
       " 113.44979922079625,\n",
       " 112.3304927083743,\n",
       " 113.28221255897392,\n",
       " 112.34326540297377,\n",
       " 113.13276818701532,\n",
       " 112.3444825942288,\n",
       " 112.99882588161886,\n",
       " 112.33643364750318,\n",
       " 112.87818661437916,\n",
       " 112.32102752701881,\n",
       " 112.76901517031536,\n",
       " 112.29985287404061,\n",
       " 112.66977671749328,\n",
       " 112.27422890572639,\n",
       " 112.57918471173642,\n",
       " 112.24524844918773,\n",
       " 112.49615804274399,\n",
       " 112.21381426786306,\n",
       " 112.41978573647584,\n",
       " 112.18066968745137,\n",
       " 112.34929785083217,\n",
       " 112.14642439087653,\n",
       " 112.28404145759508,\n",
       " 112.11157612801686,\n",
       " 112.22346080827907,\n",
       " 112.07652897665342,\n",
       " 112.16708094618318,\n",
       " 112.04160869574747,\n",
       " 112.11449416003839,\n",
       " 112.00707562972977,\n",
       " 112.06534878271756,\n",
       " 111.97313555170889,\n",
       " 112.0193399265358,\n",
       " 111.93994877305808,\n",
       " 111.97620181864559]"
      ]
     },
     "execution_count": 42,
     "metadata": {},
     "output_type": "execute_result"
    }
   ],
   "source": [
    "error"
   ]
  },
  {
   "cell_type": "code",
   "execution_count": null,
   "metadata": {},
   "outputs": [],
   "source": []
  },
  {
   "cell_type": "code",
   "execution_count": null,
   "metadata": {},
   "outputs": [],
   "source": []
  }
 ],
 "metadata": {
  "kernelspec": {
   "display_name": "Python 3",
   "language": "python",
   "name": "python3"
  },
  "language_info": {
   "codemirror_mode": {
    "name": "ipython",
    "version": 3
   },
   "file_extension": ".py",
   "mimetype": "text/x-python",
   "name": "python",
   "nbconvert_exporter": "python",
   "pygments_lexer": "ipython3",
   "version": "3.6.4"
  }
 },
 "nbformat": 4,
 "nbformat_minor": 2
}
