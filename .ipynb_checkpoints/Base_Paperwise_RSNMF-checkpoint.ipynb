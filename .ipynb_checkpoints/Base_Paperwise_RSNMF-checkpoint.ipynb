{
 "cells": [
  {
   "cell_type": "code",
   "execution_count": 1,
   "metadata": {},
   "outputs": [],
   "source": [
    "import numpy as np"
   ]
  },
  {
   "cell_type": "markdown",
   "metadata": {},
   "source": [
    "## Creation of R matrix (User-Item rating matrix)"
   ]
  },
  {
   "cell_type": "code",
   "execution_count": 2,
   "metadata": {},
   "outputs": [],
   "source": [
    "x = np.array([[5,0,4,0,3,3],\n",
    "            [0,4,0,0,3,0],\n",
    "            [3,0,0,3,0,0],\n",
    "            [0,4,0,5,0,1]])"
   ]
  },
  {
   "cell_type": "code",
   "execution_count": 3,
   "metadata": {},
   "outputs": [
    {
     "data": {
      "text/plain": [
       "matrix([[5, 0, 4, 0, 3, 3],\n",
       "        [0, 4, 0, 0, 3, 0],\n",
       "        [3, 0, 0, 3, 0, 0],\n",
       "        [0, 4, 0, 5, 0, 1]])"
      ]
     },
     "execution_count": 3,
     "metadata": {},
     "output_type": "execute_result"
    }
   ],
   "source": [
    "R = np.asmatrix(x)\n",
    "R"
   ]
  },
  {
   "cell_type": "markdown",
   "metadata": {},
   "source": [
    "## Initialization of f i.e. low rank"
   ]
  },
  {
   "cell_type": "markdown",
   "metadata": {},
   "source": [
    "## U is No of users in User-Item rating matrix\n",
    "## I is No of items User-Item rating matrix"
   ]
  },
  {
   "cell_type": "code",
   "execution_count": 4,
   "metadata": {},
   "outputs": [],
   "source": [
    "U,I = R.shape\n",
    "f = 3"
   ]
  },
  {
   "cell_type": "markdown",
   "metadata": {},
   "source": [
    "## Factor matrices initialization randomly"
   ]
  },
  {
   "cell_type": "code",
   "execution_count": 5,
   "metadata": {},
   "outputs": [],
   "source": [
    "#p = np.random.rand(U,f)\n",
    "#q = np.random.rand(f,I)\n",
    "p = np.array([[0.11,0.07,0.19],\n",
    "            [0.09,0.16,0.19],\n",
    "            [0.09,0.05,0.04],\n",
    "            [0.03,0.13,0.18]])\n",
    "q = np.array([[0.16,0.01,0.07,0.17,0.02,0.20],\n",
    "             [0.18,0.19,0.10,0.05,0.18,0.15],\n",
    "             [0.02,0.18,0.03,0.14,0.17,0.06]])"
   ]
  },
  {
   "cell_type": "code",
   "execution_count": 6,
   "metadata": {},
   "outputs": [],
   "source": [
    "P = np.asmatrix(p)\n",
    "Q = np.asmatrix(q)"
   ]
  },
  {
   "cell_type": "code",
   "execution_count": 7,
   "metadata": {},
   "outputs": [
    {
     "data": {
      "text/plain": [
       "matrix([[0.11, 0.07, 0.19],\n",
       "        [0.09, 0.16, 0.19],\n",
       "        [0.09, 0.05, 0.04],\n",
       "        [0.03, 0.13, 0.18]])"
      ]
     },
     "execution_count": 7,
     "metadata": {},
     "output_type": "execute_result"
    }
   ],
   "source": [
    "P"
   ]
  },
  {
   "cell_type": "code",
   "execution_count": 8,
   "metadata": {},
   "outputs": [
    {
     "data": {
      "text/plain": [
       "matrix([[0.16, 0.01, 0.07, 0.17, 0.02, 0.2 ],\n",
       "        [0.18, 0.19, 0.1 , 0.05, 0.18, 0.15],\n",
       "        [0.02, 0.18, 0.03, 0.14, 0.17, 0.06]])"
      ]
     },
     "execution_count": 8,
     "metadata": {},
     "output_type": "execute_result"
    }
   ],
   "source": [
    "Q"
   ]
  },
  {
   "cell_type": "markdown",
   "metadata": {},
   "source": [
    "## Regularization Coefficient initialization"
   ]
  },
  {
   "cell_type": "code",
   "execution_count": 9,
   "metadata": {},
   "outputs": [],
   "source": [
    "lambda_p = 0.06\n",
    "lambda_q = 0.06"
   ]
  },
  {
   "cell_type": "markdown",
   "metadata": {},
   "source": [
    "## Setting maximum training round"
   ]
  },
  {
   "cell_type": "code",
   "execution_count": 10,
   "metadata": {},
   "outputs": [],
   "source": [
    "t = 1\n",
    "max_training_round = 1000"
   ]
  },
  {
   "cell_type": "markdown",
   "metadata": {},
   "source": [
    "## Simple error measure (Sum of elementwise squared error)"
   ]
  },
  {
   "cell_type": "code",
   "execution_count": 11,
   "metadata": {},
   "outputs": [],
   "source": [
    "def get_error(R, P, Q):\n",
    "    return np.sum(np.square(R - np.dot(P,Q)))"
   ]
  },
  {
   "cell_type": "markdown",
   "metadata": {},
   "source": [
    "## Auxiliary matrix to determine Ui and Iu"
   ]
  },
  {
   "cell_type": "code",
   "execution_count": 13,
   "metadata": {},
   "outputs": [],
   "source": [
    "W = R>0.01\n",
    "W[W == True] = 1\n",
    "W[W == False] = 0\n",
    "# To be consistent with our Q matrix\n",
    "W = W.astype(np.int64, copy=False)"
   ]
  },
  {
   "cell_type": "markdown",
   "metadata": {},
   "source": [
    "## Counting no of users who rated item i"
   ]
  },
  {
   "cell_type": "code",
   "execution_count": 14,
   "metadata": {},
   "outputs": [],
   "source": [
    "Ui = []\n",
    "for iterator in range(I):\n",
    "    Ui.append(W[:,iterator].sum())"
   ]
  },
  {
   "cell_type": "markdown",
   "metadata": {},
   "source": [
    "## Counting no of items which was being rated by user u"
   ]
  },
  {
   "cell_type": "code",
   "execution_count": 15,
   "metadata": {},
   "outputs": [],
   "source": [
    "Iu = []\n",
    "for iterator in range(U):\n",
    "    Iu.append(W[iterator].sum())"
   ]
  },
  {
   "cell_type": "code",
   "execution_count": 16,
   "metadata": {},
   "outputs": [
    {
     "data": {
      "text/plain": [
       "6"
      ]
     },
     "execution_count": 16,
     "metadata": {},
     "output_type": "execute_result"
    }
   ],
   "source": [
    "len(Ui)"
   ]
  },
  {
   "cell_type": "code",
   "execution_count": 17,
   "metadata": {},
   "outputs": [
    {
     "data": {
      "text/plain": [
       "4"
      ]
     },
     "execution_count": 17,
     "metadata": {},
     "output_type": "execute_result"
    }
   ],
   "source": [
    "len(Iu)"
   ]
  },
  {
   "cell_type": "markdown",
   "metadata": {},
   "source": [
    "## RSNMF"
   ]
  },
  {
   "cell_type": "code",
   "execution_count": 18,
   "metadata": {},
   "outputs": [],
   "source": [
    "error = []\n",
    "while t <= max_training_round:\n",
    "    UserUp = np.zeros((U,f), dtype=float)\n",
    "    UserDown = np.zeros((U,f), dtype=float)\n",
    "    ItemUp = np.zeros((f,I), dtype=float)\n",
    "    ItemDown = np.zeros((f,I), dtype=float)\n",
    "    for u in range(U):\n",
    "        for i in range(I):\n",
    "            if(R[u,i] != 0):\n",
    "                rui_cap = P[u,:]*Q[:,i]\n",
    "                for k in range(f):\n",
    "                    UserUp[u,k] = UserUp[u,k] + Q[k,i] * R[u,i]\n",
    "                    UserDown[u,k] = UserDown[u,k] + Q[k,i] * rui_cap\n",
    "                    ItemUp[k,i] = ItemUp[k,i] + P[u,k] * R[u,i]\n",
    "                    ItemDown[k,i] = ItemDown[k,i] + P[u,k]*rui_cap\n",
    "    for u in range(U):\n",
    "        for k in range(f):\n",
    "            UserDown[u,k] = UserDown[u,k] + Iu[u] * lambda_p * P[u,k]\n",
    "            P[u,k] = P[u,k] * (UserUp[u,k]/UserDown[u,k])\n",
    "    for i in range(I):\n",
    "        for k in range(f):\n",
    "            ItemDown[k,i] = ItemDown[k,i] + Ui[i] * lambda_q * Q[k,i]\n",
    "            Q[k,i] = Q[k,i] * (ItemUp[k,i]/ItemDown[k,i])\n",
    "    error.append(get_error(R, P, Q))\n",
    "    #print('{}th epoch is completed'.format(t))\n",
    "    t = t+1"
   ]
  },
  {
   "cell_type": "code",
   "execution_count": 19,
   "metadata": {},
   "outputs": [
    {
     "name": "stdout",
     "output_type": "stream",
     "text": [
      "Total error of rated movies: 104.4123652010677\n"
     ]
    }
   ],
   "source": [
    "print('Total error of rated movies: {}'.format(get_error(R,P,Q)))"
   ]
  },
  {
   "cell_type": "markdown",
   "metadata": {},
   "source": [
    "## Error graph"
   ]
  },
  {
   "cell_type": "code",
   "execution_count": 20,
   "metadata": {},
   "outputs": [],
   "source": [
    "import matplotlib.pyplot as plt"
   ]
  },
  {
   "cell_type": "code",
   "execution_count": 21,
   "metadata": {},
   "outputs": [
    {
     "data": {
      "image/png": "[encoded data removed]",
      "text/plain": [
       "<matplotlib.figure.Figure at 0x1e3db16b8d0>"
      ]
     },
     "metadata": {
      "needs_background": "light"
     },
     "output_type": "display_data"
    }
   ],
   "source": [
    "plt.plot(error);\n",
    "plt.xlabel('Iteration Number');\n",
    "plt.ylabel('Sum of Squared Error');"
   ]
  },
  {
   "cell_type": "code",
   "execution_count": null,
   "metadata": {},
   "outputs": [],
   "source": []
  }
 ],
 "metadata": {
  "kernelspec": {
   "display_name": "Python 3",
   "language": "python",
   "name": "python3"
  },
  "language_info": {
   "codemirror_mode": {
    "name": "ipython",
    "version": 3
   },
   "file_extension": ".py",
   "mimetype": "text/x-python",
   "name": "python",
   "nbconvert_exporter": "python",
   "pygments_lexer": "ipython3",
   "version": "3.6.4"
  }
 },
 "nbformat": 4,
 "nbformat_minor": 2
}
