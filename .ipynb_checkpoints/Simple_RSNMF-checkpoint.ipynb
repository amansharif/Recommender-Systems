{
 "cells": [
  {
   "cell_type": "code",
   "execution_count": 1,
   "metadata": {},
   "outputs": [],
   "source": [
    "import numpy as np"
   ]
  },
  {
   "cell_type": "code",
   "execution_count": 2,
   "metadata": {},
   "outputs": [],
   "source": [
    "x = np.array([[5,0,4,0,3,3],\n",
    "            [0,4,0,0,3,0],\n",
    "            [3,0,0,3,0,0],\n",
    "            [0,4,0,5,0,1]])"
   ]
  },
  {
   "cell_type": "code",
   "execution_count": 3,
   "metadata": {},
   "outputs": [
    {
     "data": {
      "text/plain": [
       "matrix([[5, 0, 4, 0, 3, 3],\n",
       "        [0, 4, 0, 0, 3, 0],\n",
       "        [3, 0, 0, 3, 0, 0],\n",
       "        [0, 4, 0, 5, 0, 1]])"
      ]
     },
     "execution_count": 3,
     "metadata": {},
     "output_type": "execute_result"
    }
   ],
   "source": [
    "R = np.asmatrix(x)\n",
    "R"
   ]
  },
  {
   "cell_type": "code",
   "execution_count": 4,
   "metadata": {},
   "outputs": [],
   "source": [
    "U,I = R.shape\n",
    "f = 3"
   ]
  },
  {
   "cell_type": "code",
   "execution_count": 5,
   "metadata": {},
   "outputs": [],
   "source": [
    "#p = np.random.rand(U,f)\n",
    "#q = np.random.rand(f,I)\n",
    "p = np.array([[0.11,0.07,0.19],\n",
    "            [0.09,0.16,0.19],\n",
    "            [0.09,0.05,0.04],\n",
    "            [0.03,0.13,0.18]])\n",
    "q = np.array([[0.16,0.01,0.07,0.17,0.02,0.20],\n",
    "             [0.18,0.19,0.10,0.05,0.18,0.15],\n",
    "             [0.02,0.18,0.03,0.14,0.17,0.06]])"
   ]
  },
  {
   "cell_type": "code",
   "execution_count": 6,
   "metadata": {},
   "outputs": [],
   "source": [
    "P = np.asmatrix(p)\n",
    "Q = np.asmatrix(q)"
   ]
  },
  {
   "cell_type": "code",
   "execution_count": 7,
   "metadata": {},
   "outputs": [
    {
     "data": {
      "text/plain": [
       "matrix([[0.11, 0.07, 0.19],\n",
       "        [0.09, 0.16, 0.19],\n",
       "        [0.09, 0.05, 0.04],\n",
       "        [0.03, 0.13, 0.18]])"
      ]
     },
     "execution_count": 7,
     "metadata": {},
     "output_type": "execute_result"
    }
   ],
   "source": [
    "P"
   ]
  },
  {
   "cell_type": "code",
   "execution_count": 8,
   "metadata": {},
   "outputs": [
    {
     "data": {
      "text/plain": [
       "matrix([[0.16, 0.01, 0.07, 0.17, 0.02, 0.2 ],\n",
       "        [0.18, 0.19, 0.1 , 0.05, 0.18, 0.15],\n",
       "        [0.02, 0.18, 0.03, 0.14, 0.17, 0.06]])"
      ]
     },
     "execution_count": 8,
     "metadata": {},
     "output_type": "execute_result"
    }
   ],
   "source": [
    "Q"
   ]
  },
  {
   "cell_type": "code",
   "execution_count": 9,
   "metadata": {},
   "outputs": [],
   "source": [
    "lambda_p = 0.06\n",
    "lambda_q = 0.06"
   ]
  },
  {
   "cell_type": "code",
   "execution_count": 10,
   "metadata": {},
   "outputs": [],
   "source": [
    "t = 1\n",
    "max_training_round = 100"
   ]
  },
  {
   "cell_type": "code",
   "execution_count": 1,
   "metadata": {},
   "outputs": [],
   "source": [
    "Ui = [2,2,1,2,2,2]\n",
    "Iu = [4,2,2,3]\n",
    "R_estimate = []"
   ]
  },
  {
   "cell_type": "code",
   "execution_count": 12,
   "metadata": {},
   "outputs": [],
   "source": [
    "while t <= max_training_round:\n",
    "    UserUp = np.zeros((U,f), dtype=float)\n",
    "    UserDown = np.zeros((U,f), dtype=float)\n",
    "    ItemUp = np.zeros((f,I), dtype=float)\n",
    "    ItemDown = np.zeros((f,I), dtype=float)\n",
    "    for u in range(U):\n",
    "        for i in range(I):\n",
    "            if(R[u,i] != 0):\n",
    "                rui_cap = P[u,:]*Q[:,i]\n",
    "                for k in range(f):\n",
    "                    UserUp[u,k] = UserUp[u,k] + Q[k,i] * R[u,i]\n",
    "                    UserDown[u,k] = UserDown[u,k] + Q[k,i] * rui_cap\n",
    "                    ItemUp[k,i] = ItemUp[k,i] + P[u,k] * R[u,i]\n",
    "                    ItemDown[k,i] = ItemDown[k,i] + P[u,k]*rui_cap\n",
    "    for u in range(U):\n",
    "        for k in range(f):\n",
    "            UserDown[u,k] = UserDown[u,k] + Iu[u] * lambda_p * P[u,k]\n",
    "            P[u,k] = P[u,k] * (UserUp[u,k]/UserDown[u,k])\n",
    "    for i in range(I):\n",
    "        for k in range(f):\n",
    "            ItemDown[k,i] = ItemDown[k,i] + Ui[i] * lambda_q * Q[k,i]\n",
    "            Q[k,i] = Q[k,i] * (ItemUp[k,i]/ItemDown[k,i])\n",
    "    t = t+1\n",
    "    R_estimate"
   ]
  },
  {
   "cell_type": "code",
   "execution_count": 13,
   "metadata": {},
   "outputs": [
    {
     "data": {
      "text/plain": [
       "matrix([[1.57565203, 1.16268484, 0.80568888],\n",
       "        [0.3282068 , 1.24113134, 1.44425151],\n",
       "        [0.75229217, 0.7404188 , 0.77965122],\n",
       "        [0.18653519, 0.96626883, 1.70133395]])"
      ]
     },
     "execution_count": 13,
     "metadata": {},
     "output_type": "execute_result"
    }
   ],
   "source": [
    "P"
   ]
  },
  {
   "cell_type": "code",
   "execution_count": 14,
   "metadata": {},
   "outputs": [
    {
     "data": {
      "text/plain": [
       "matrix([[1.58945983, 0.23669044, 1.27887229, 0.50580608, 0.57232632,\n",
       "         1.26822756],\n",
       "        [1.23387224, 1.17752139, 0.98790732, 1.21872872, 0.98565009,\n",
       "         0.58871937],\n",
       "        [0.92314556, 1.52932051, 0.75853743, 1.99174365, 0.97124565,\n",
       "         0.11244616]])"
      ]
     },
     "execution_count": 14,
     "metadata": {},
     "output_type": "execute_result"
    }
   ],
   "source": [
    "Q"
   ]
  },
  {
   "cell_type": "code",
   "execution_count": 15,
   "metadata": {},
   "outputs": [
    {
     "data": {
      "text/plain": [
       "matrix([[4.68280826, 2.97418457, 3.77482775, 3.81869748, 2.83030935,\n",
       "         2.77337702],\n",
       "        [3.3863234 , 3.74786557, 2.74137615, 4.55519018, 2.8138856 ,\n",
       "         1.30931951],\n",
       "        [2.82905195, 2.24225595, 2.2849454 , 2.83574898, 1.91758332,\n",
       "         1.47764534],\n",
       "        [3.05932135, 3.78383821, 2.48366421, 4.66059129, 2.71157515,\n",
       "         0.99673871]])"
      ]
     },
     "execution_count": 15,
     "metadata": {},
     "output_type": "execute_result"
    }
   ],
   "source": [
    "P*Q"
   ]
  },
  {
   "cell_type": "code",
   "execution_count": null,
   "metadata": {},
   "outputs": [],
   "source": []
  }
 ],
 "metadata": {
  "kernelspec": {
   "display_name": "Python 3",
   "language": "python",
   "name": "python3"
  },
  "language_info": {
   "codemirror_mode": {
    "name": "ipython",
    "version": 3
   },
   "file_extension": ".py",
   "mimetype": "text/x-python",
   "name": "python",
   "nbconvert_exporter": "python",
   "pygments_lexer": "ipython3",
   "version": "3.6.4"
  }
 },
 "nbformat": 4,
 "nbformat_minor": 2
}
