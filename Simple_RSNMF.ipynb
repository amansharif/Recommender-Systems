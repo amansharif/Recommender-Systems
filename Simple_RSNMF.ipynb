{
 "cells": [
  {
   "cell_type": "code",
   "execution_count": 1,
   "metadata": {},
   "outputs": [],
   "source": [
    "import numpy as np"
   ]
  },
  {
   "cell_type": "markdown",
   "metadata": {},
   "source": [
    "## Creation of R matrix (User-Item rating matrix)"
   ]
  },
  {
   "cell_type": "code",
   "execution_count": 2,
   "metadata": {},
   "outputs": [],
   "source": [
    "x = np.array([[5,0,4,0,3,3],\n",
    "            [0,4,0,0,3,0],\n",
    "            [3,0,0,3,0,0],\n",
    "            [0,4,0,5,0,1]])"
   ]
  },
  {
   "cell_type": "code",
   "execution_count": 3,
   "metadata": {},
   "outputs": [
    {
     "data": {
      "text/plain": [
       "matrix([[5, 0, 4, 0, 3, 3],\n",
       "        [0, 4, 0, 0, 3, 0],\n",
       "        [3, 0, 0, 3, 0, 0],\n",
       "        [0, 4, 0, 5, 0, 1]])"
      ]
     },
     "execution_count": 3,
     "metadata": {},
     "output_type": "execute_result"
    }
   ],
   "source": [
    "R = np.asmatrix(x)\n",
    "R"
   ]
  },
  {
   "cell_type": "markdown",
   "metadata": {},
   "source": [
    "## Initialization of f i.e. low rank"
   ]
  },
  {
   "cell_type": "markdown",
   "metadata": {},
   "source": [
    "## U is No of users in User-Item rating matrix\n",
    "## I is No of items User-Item rating matrix"
   ]
  },
  {
   "cell_type": "code",
   "execution_count": 4,
   "metadata": {},
   "outputs": [],
   "source": [
    "U,I = R.shape\n",
    "f = 3"
   ]
  },
  {
   "cell_type": "code",
   "execution_count": 5,
   "metadata": {},
   "outputs": [],
   "source": [
    "number = np.random.RandomState(42)"
   ]
  },
  {
   "cell_type": "markdown",
   "metadata": {},
   "source": [
    "## Factor matrices initialization randomly"
   ]
  },
  {
   "cell_type": "code",
   "execution_count": 6,
   "metadata": {},
   "outputs": [
    {
     "data": {
      "text/plain": [
       "'p = np.array([[0.11,0.07,0.19],\\n            [0.09,0.16,0.19],\\n            [0.09,0.05,0.04],\\n            [0.03,0.13,0.18]])\\nq = np.array([[0.16,0.01,0.07,0.17,0.02,0.20],\\n             [0.18,0.19,0.10,0.05,0.18,0.15],\\n             [0.02,0.18,0.03,0.14,0.17,0.06]])'"
      ]
     },
     "execution_count": 6,
     "metadata": {},
     "output_type": "execute_result"
    }
   ],
   "source": [
    "p = number.rand(U,f)\n",
    "q = number.rand(f,I)\n",
    "'''p = np.array([[0.11,0.07,0.19],\n",
    "            [0.09,0.16,0.19],\n",
    "            [0.09,0.05,0.04],\n",
    "            [0.03,0.13,0.18]])\n",
    "q = np.array([[0.16,0.01,0.07,0.17,0.02,0.20],\n",
    "             [0.18,0.19,0.10,0.05,0.18,0.15],\n",
    "             [0.02,0.18,0.03,0.14,0.17,0.06]])'''"
   ]
  },
  {
   "cell_type": "code",
   "execution_count": 7,
   "metadata": {},
   "outputs": [],
   "source": [
    "P = np.asmatrix(p)\n",
    "Q = np.asmatrix(q)"
   ]
  },
  {
   "cell_type": "code",
   "execution_count": 8,
   "metadata": {},
   "outputs": [
    {
     "data": {
      "text/plain": [
       "matrix([[0.37454012, 0.95071431, 0.73199394],\n",
       "        [0.59865848, 0.15601864, 0.15599452],\n",
       "        [0.05808361, 0.86617615, 0.60111501],\n",
       "        [0.70807258, 0.02058449, 0.96990985]])"
      ]
     },
     "execution_count": 8,
     "metadata": {},
     "output_type": "execute_result"
    }
   ],
   "source": [
    "P"
   ]
  },
  {
   "cell_type": "code",
   "execution_count": 9,
   "metadata": {},
   "outputs": [
    {
     "data": {
      "text/plain": [
       "matrix([[0.83244264, 0.21233911, 0.18182497, 0.18340451, 0.30424224,\n",
       "         0.52475643],\n",
       "        [0.43194502, 0.29122914, 0.61185289, 0.13949386, 0.29214465,\n",
       "         0.36636184],\n",
       "        [0.45606998, 0.78517596, 0.19967378, 0.51423444, 0.59241457,\n",
       "         0.04645041]])"
      ]
     },
     "execution_count": 9,
     "metadata": {},
     "output_type": "execute_result"
    }
   ],
   "source": [
    "Q"
   ]
  },
  {
   "cell_type": "markdown",
   "metadata": {},
   "source": [
    "## Regularization Coefficient initialization"
   ]
  },
  {
   "cell_type": "code",
   "execution_count": 10,
   "metadata": {},
   "outputs": [],
   "source": [
    "lambda_p = 0.1\n",
    "lambda_q = 0.1"
   ]
  },
  {
   "cell_type": "markdown",
   "metadata": {},
   "source": [
    "## Setting maximum training round"
   ]
  },
  {
   "cell_type": "code",
   "execution_count": 11,
   "metadata": {},
   "outputs": [],
   "source": [
    "t = 1\n",
    "max_training_round = 100"
   ]
  },
  {
   "cell_type": "markdown",
   "metadata": {},
   "source": [
    "## Auxiliary matrix to determine Ui and Iu"
   ]
  },
  {
   "cell_type": "code",
   "execution_count": 12,
   "metadata": {},
   "outputs": [],
   "source": [
    "W = R>0.01\n",
    "W[W == True] = 1\n",
    "W[W == False] = 0\n",
    "# To be consistent with our Q matrix\n",
    "W = W.astype(np.int64, copy=False)"
   ]
  },
  {
   "cell_type": "markdown",
   "metadata": {},
   "source": [
    "## Counting no of users who rated item i"
   ]
  },
  {
   "cell_type": "code",
   "execution_count": 13,
   "metadata": {},
   "outputs": [],
   "source": [
    "Ui = []\n",
    "for iterator in range(I):\n",
    "    Ui.append(W[:,iterator].sum())"
   ]
  },
  {
   "cell_type": "markdown",
   "metadata": {},
   "source": [
    "## Counting no of items which was being rated by user u"
   ]
  },
  {
   "cell_type": "code",
   "execution_count": 14,
   "metadata": {},
   "outputs": [],
   "source": [
    "Iu = []\n",
    "for iterator in range(U):\n",
    "    Iu.append(W[iterator].sum())"
   ]
  },
  {
   "cell_type": "code",
   "execution_count": 15,
   "metadata": {},
   "outputs": [
    {
     "data": {
      "text/plain": [
       "6"
      ]
     },
     "execution_count": 15,
     "metadata": {},
     "output_type": "execute_result"
    }
   ],
   "source": [
    "len(Ui)"
   ]
  },
  {
   "cell_type": "code",
   "execution_count": 16,
   "metadata": {},
   "outputs": [
    {
     "data": {
      "text/plain": [
       "4"
      ]
     },
     "execution_count": 16,
     "metadata": {},
     "output_type": "execute_result"
    }
   ],
   "source": [
    "len(Iu)"
   ]
  },
  {
   "cell_type": "code",
   "execution_count": 17,
   "metadata": {},
   "outputs": [],
   "source": [
    "from sklearn.metrics import mean_squared_error"
   ]
  },
  {
   "cell_type": "markdown",
   "metadata": {},
   "source": [
    "## RSNMF"
   ]
  },
  {
   "cell_type": "code",
   "execution_count": 18,
   "metadata": {},
   "outputs": [
    {
     "name": "stdout",
     "output_type": "stream",
     "text": [
      "1th epoch is completed\n",
      "2th epoch is completed\n",
      "3th epoch is completed\n",
      "4th epoch is completed\n",
      "5th epoch is completed\n",
      "6th epoch is completed\n",
      "7th epoch is completed\n",
      "8th epoch is completed\n",
      "9th epoch is completed\n",
      "10th epoch is completed\n",
      "11th epoch is completed\n",
      "12th epoch is completed\n",
      "13th epoch is completed\n",
      "14th epoch is completed\n",
      "15th epoch is completed\n",
      "16th epoch is completed\n",
      "17th epoch is completed\n",
      "18th epoch is completed\n",
      "19th epoch is completed\n",
      "20th epoch is completed\n",
      "21th epoch is completed\n",
      "22th epoch is completed\n",
      "23th epoch is completed\n",
      "24th epoch is completed\n",
      "25th epoch is completed\n",
      "26th epoch is completed\n",
      "27th epoch is completed\n",
      "28th epoch is completed\n",
      "29th epoch is completed\n",
      "30th epoch is completed\n",
      "31th epoch is completed\n",
      "32th epoch is completed\n",
      "33th epoch is completed\n",
      "34th epoch is completed\n",
      "35th epoch is completed\n",
      "36th epoch is completed\n",
      "37th epoch is completed\n",
      "38th epoch is completed\n",
      "39th epoch is completed\n",
      "40th epoch is completed\n",
      "41th epoch is completed\n",
      "42th epoch is completed\n",
      "43th epoch is completed\n",
      "44th epoch is completed\n",
      "45th epoch is completed\n",
      "46th epoch is completed\n",
      "47th epoch is completed\n",
      "48th epoch is completed\n",
      "49th epoch is completed\n",
      "50th epoch is completed\n",
      "51th epoch is completed\n",
      "52th epoch is completed\n",
      "53th epoch is completed\n",
      "54th epoch is completed\n",
      "55th epoch is completed\n",
      "56th epoch is completed\n",
      "57th epoch is completed\n",
      "58th epoch is completed\n",
      "59th epoch is completed\n",
      "60th epoch is completed\n",
      "61th epoch is completed\n",
      "62th epoch is completed\n",
      "63th epoch is completed\n",
      "64th epoch is completed\n",
      "65th epoch is completed\n",
      "66th epoch is completed\n",
      "67th epoch is completed\n",
      "68th epoch is completed\n",
      "69th epoch is completed\n",
      "70th epoch is completed\n",
      "71th epoch is completed\n",
      "72th epoch is completed\n",
      "73th epoch is completed\n",
      "74th epoch is completed\n",
      "75th epoch is completed\n",
      "76th epoch is completed\n",
      "77th epoch is completed\n",
      "78th epoch is completed\n",
      "79th epoch is completed\n",
      "80th epoch is completed\n",
      "81th epoch is completed\n",
      "82th epoch is completed\n",
      "83th epoch is completed\n",
      "84th epoch is completed\n",
      "85th epoch is completed\n",
      "86th epoch is completed\n",
      "87th epoch is completed\n",
      "88th epoch is completed\n",
      "89th epoch is completed\n",
      "90th epoch is completed\n",
      "91th epoch is completed\n",
      "92th epoch is completed\n",
      "93th epoch is completed\n",
      "94th epoch is completed\n",
      "95th epoch is completed\n",
      "96th epoch is completed\n",
      "97th epoch is completed\n",
      "98th epoch is completed\n",
      "99th epoch is completed\n",
      "100th epoch is completed\n"
     ]
    }
   ],
   "source": [
    "error = []\n",
    "diff_error = 10\n",
    "while t <= max_training_round and diff_error > 0.00001:\n",
    "    UserUp = np.zeros((U,f), dtype=float)\n",
    "    UserDown = np.zeros((U,f), dtype=float)\n",
    "    ItemUp = np.zeros((f,I), dtype=float)\n",
    "    ItemDown = np.zeros((f,I), dtype=float)\n",
    "    for u in range(U):\n",
    "        for i in range(I):\n",
    "            if(R[u,i] != 0):\n",
    "                rui_cap = P[u,:]*Q[:,i]\n",
    "                for k in range(f):\n",
    "                    UserUp[u,k] = UserUp[u,k] + Q[k,i] * R[u,i]\n",
    "                    UserDown[u,k] = UserDown[u,k] + Q[k,i] * rui_cap\n",
    "                    ItemUp[k,i] = ItemUp[k,i] + P[u,k] * R[u,i]\n",
    "                    ItemDown[k,i] = ItemDown[k,i] + P[u,k]*rui_cap\n",
    "    for u in range(U):\n",
    "        for k in range(f):\n",
    "            UserDown[u,k] = UserDown[u,k] + Iu[u] * lambda_p * P[u,k]\n",
    "            P[u,k] = P[u,k] * (UserUp[u,k]/UserDown[u,k])\n",
    "    for i in range(I):\n",
    "        for k in range(f):\n",
    "            ItemDown[k,i] = ItemDown[k,i] + Ui[i] * lambda_q * Q[k,i]\n",
    "            Q[k,i] = Q[k,i] * (ItemUp[k,i]/ItemDown[k,i])\n",
    "    error.append(mean_squared_error(R,np.dot(P,Q)))\n",
    "    if(t>2):\n",
    "        diff_error = abs(error[t-3] - error[t-2])\n",
    "    print('{}th epoch is completed'.format(t))\n",
    "    t = t+1"
   ]
  },
  {
   "cell_type": "code",
   "execution_count": 19,
   "metadata": {},
   "outputs": [],
   "source": [
    "#print('Total error of rated movies: {}'.format(error[t])"
   ]
  },
  {
   "cell_type": "markdown",
   "metadata": {},
   "source": [
    "## Error graph"
   ]
  },
  {
   "cell_type": "code",
   "execution_count": 20,
   "metadata": {},
   "outputs": [],
   "source": [
    "import matplotlib.pyplot as plt"
   ]
  },
  {
   "cell_type": "code",
   "execution_count": 21,
   "metadata": {},
   "outputs": [
    {
     "data": {
      "image/png": "[encoded data removed]",
      "text/plain": [
       "<matplotlib.figure.Figure at 0x29ee2d56710>"
      ]
     },
     "metadata": {
      "needs_background": "light"
     },
     "output_type": "display_data"
    }
   ],
   "source": [
    "plt.plot(error);\n",
    "plt.xlabel('Iteration Number');\n",
    "plt.ylabel('Mean Squared Error');"
   ]
  },
  {
   "cell_type": "code",
   "execution_count": 22,
   "metadata": {},
   "outputs": [
    {
     "data": {
      "text/plain": [
       "'x = np.array([[0,0,5,0,2,0,0],\\n            [0,2,0,0,0,3,0],\\n            [0,3,0,0,4,0,1],\\n            [0,0,5,3,1,0,2],\\n             [0,5,4,0,0,4,0]])\\ntest = np.asmatrix(x)'"
      ]
     },
     "execution_count": 22,
     "metadata": {},
     "output_type": "execute_result"
    }
   ],
   "source": [
    "'''x = np.array([[0,0,5,0,2,0,0],\n",
    "            [0,2,0,0,0,3,0],\n",
    "            [0,3,0,0,4,0,1],\n",
    "            [0,0,5,3,1,0,2],\n",
    "             [0,5,4,0,0,4,0]])\n",
    "test = np.asmatrix(x)'''"
   ]
  },
  {
   "cell_type": "code",
   "execution_count": 23,
   "metadata": {},
   "outputs": [
    {
     "data": {
      "text/plain": [
       "matrix([[0.96313158, 1.62461215, 0.93648865],\n",
       "        [1.08043541, 0.74498393, 1.46235227],\n",
       "        [0.45624383, 0.69345755, 1.06716721],\n",
       "        [0.80487633, 0.10903275, 1.85940943]])"
      ]
     },
     "execution_count": 23,
     "metadata": {},
     "output_type": "execute_result"
    }
   ],
   "source": [
    "P"
   ]
  },
  {
   "cell_type": "code",
   "execution_count": 24,
   "metadata": {},
   "outputs": [
    {
     "data": {
      "text/plain": [
       "matrix([[1.00658536, 1.01012863, 0.80822169, 0.92052775, 0.82991862,\n",
       "         0.5845547 ],\n",
       "        [1.65587638, 0.52351105, 1.45384994, 0.31115513, 0.76062959,\n",
       "         1.26112413],\n",
       "        [1.23131951, 1.63341722, 0.81389428, 2.15798087, 0.97309439,\n",
       "         0.23721325]])"
      ]
     },
     "execution_count": 24,
     "metadata": {},
     "output_type": "execute_result"
    }
   ],
   "source": [
    "Q"
   ]
  },
  {
   "cell_type": "code",
   "execution_count": 25,
   "metadata": {},
   "outputs": [
    {
     "data": {
      "text/plain": [
       "matrix([[4.81274777, 3.35306587, 3.90256885, 3.41302034, 2.94634076,\n",
       "         2.8339882 ],\n",
       "        [4.12177464, 3.87001743, 3.14652631, 4.38210457, 2.88633708,\n",
       "         1.91798014],\n",
       "        [2.92155213, 2.56702693, 2.24549065, 2.9386844 , 1.944564  ,\n",
       "         1.39438172],\n",
       "        [3.28024858, 3.90729983, 2.32239844, 4.78740707, 2.56029627,\n",
       "         1.04907461]])"
      ]
     },
     "execution_count": 25,
     "metadata": {},
     "output_type": "execute_result"
    }
   ],
   "source": [
    "np.dot(P,Q)"
   ]
  },
  {
   "cell_type": "code",
   "execution_count": null,
   "metadata": {},
   "outputs": [],
   "source": []
  }
 ],
 "metadata": {
  "kernelspec": {
   "display_name": "Python 3",
   "language": "python",
   "name": "python3"
  },
  "language_info": {
   "codemirror_mode": {
    "name": "ipython",
    "version": 3
   },
   "file_extension": ".py",
   "mimetype": "text/x-python",
   "name": "python",
   "nbconvert_exporter": "python",
   "pygments_lexer": "ipython3",
   "version": "3.6.4"
  }
 },
 "nbformat": 4,
 "nbformat_minor": 2
}
