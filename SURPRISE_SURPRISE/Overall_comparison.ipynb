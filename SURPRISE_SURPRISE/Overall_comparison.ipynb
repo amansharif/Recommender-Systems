{
 "cells": [
  {
   "cell_type": "code",
   "execution_count": 1,
   "metadata": {},
   "outputs": [],
   "source": [
    "from surprise import NMF\n",
    "from surprise import Dataset\n",
    "from surprise import accuracy"
   ]
  },
  {
   "cell_type": "code",
   "execution_count": 2,
   "metadata": {},
   "outputs": [],
   "source": [
    "# Load the movielens-100k dataset (download it if needed),\n",
    "data = Dataset.load_builtin('ml-100k')"
   ]
  },
  {
   "cell_type": "markdown",
   "metadata": {},
   "source": [
    "## NMF"
   ]
  },
  {
   "cell_type": "code",
   "execution_count": 3,
   "metadata": {},
   "outputs": [
    {
     "name": "stdout",
     "output_type": "stream",
     "text": [
      "RMSE: 0.9807\n"
     ]
    },
    {
     "data": {
      "text/plain": [
       "0.9807313211703795"
      ]
     },
     "execution_count": 3,
     "metadata": {},
     "output_type": "execute_result"
    }
   ],
   "source": [
    "# Retrieve the trainset.\n",
    "trainset1 = data.build_full_trainset()\n",
    "testset1 = trainset1.build_anti_testset()\n",
    "nmf = NMF()\n",
    "nmf.fit(trainset1)\n",
    "predictions1 = nmf.test(testset1)\n",
    "accuracy.rmse(predictions1)"
   ]
  },
  {
   "cell_type": "code",
   "execution_count": 4,
   "metadata": {},
   "outputs": [],
   "source": [
    "from collections import defaultdict"
   ]
  },
  {
   "cell_type": "code",
   "execution_count": 5,
   "metadata": {},
   "outputs": [],
   "source": [
    "def precision_recall_at_k(predictions, k=10, threshold=3.5):\n",
    "    '''Return precision and recall at k metrics for each user.'''\n",
    "\n",
    "    # First map the predictions to each user.\n",
    "    user_est_true = defaultdict(list)\n",
    "    for uid, _, true_r, est, _ in predictions:\n",
    "        user_est_true[uid].append((est, true_r))\n",
    "\n",
    "    precisions = dict()\n",
    "    recalls = dict()\n",
    "    for uid, user_ratings in user_est_true.items():\n",
    "\n",
    "        # Sort user ratings by estimated value\n",
    "        user_ratings.sort(key=lambda x: x[0], reverse=True)\n",
    "\n",
    "        # Number of relevant items\n",
    "        n_rel = sum((true_r >= threshold) for (_, true_r) in user_ratings)\n",
    "\n",
    "        # Number of recommended items in top k\n",
    "        n_rec_k = sum((est >= threshold) for (est, _) in user_ratings[:k])\n",
    "\n",
    "        # Number of relevant and recommended items in top k\n",
    "        n_rel_and_rec_k = sum(((true_r >= threshold) and (est >= threshold))\n",
    "                              for (est, true_r) in user_ratings[:k])\n",
    "\n",
    "        # Precision@K: Proportion of recommended items that are relevant\n",
    "        precisions[uid] = n_rel_and_rec_k / n_rec_k if n_rec_k != 0 else 1\n",
    "\n",
    "        # Recall@K: Proportion of relevant items that are recommended\n",
    "        recalls[uid] = n_rel_and_rec_k / n_rel if n_rel != 0 else 1\n",
    "\n",
    "    return precisions, recalls"
   ]
  },
  {
   "cell_type": "code",
   "execution_count": 6,
   "metadata": {},
   "outputs": [],
   "source": [
    "from surprise.model_selection import KFold\n",
    "kf = KFold(n_splits=5)"
   ]
  },
  {
   "cell_type": "code",
   "execution_count": 7,
   "metadata": {},
   "outputs": [],
   "source": [
    "for trainset, testset in kf.split(data):\n",
    "    nmf.fit(trainset)\n",
    "    predictions_original = nmf.test(testset)\n",
    "    precisions_original, recalls_original = precision_recall_at_k(predictions_original, k=5, threshold=4)"
   ]
  },
  {
   "cell_type": "code",
   "execution_count": 8,
   "metadata": {},
   "outputs": [
    {
     "name": "stdout",
     "output_type": "stream",
     "text": [
      "Precision :  0.8436946510804106\n",
      "Recall :  0.26071784156952593\n"
     ]
    }
   ],
   "source": [
    "# Precision and recall can then be averaged over all users\n",
    "print(\"Precision : \", sum(prec for prec in precisions_original.values()) / len(precisions_original))\n",
    "print(\"Recall : \", sum(rec for rec in recalls_original.values()) / len(recalls_original))"
   ]
  },
  {
   "cell_type": "markdown",
   "metadata": {},
   "source": [
    "## SVD"
   ]
  },
  {
   "cell_type": "code",
   "execution_count": 9,
   "metadata": {},
   "outputs": [
    {
     "name": "stdout",
     "output_type": "stream",
     "text": [
      "RMSE: 0.9373\n"
     ]
    },
    {
     "data": {
      "text/plain": [
       "0.9372695611691683"
      ]
     },
     "execution_count": 9,
     "metadata": {},
     "output_type": "execute_result"
    }
   ],
   "source": [
    "from surprise import SVD\n",
    "# Retrieve the trainset.\n",
    "trainset2 = data.build_full_trainset()\n",
    "testset2 = trainset1.build_anti_testset()\n",
    "svd = SVD()\n",
    "svd.fit(trainset)\n",
    "predictions2 = svd.test(testset)\n",
    "accuracy.rmse(predictions2)"
   ]
  },
  {
   "cell_type": "code",
   "execution_count": 10,
   "metadata": {},
   "outputs": [],
   "source": [
    "for trainset, testset in kf.split(data):\n",
    "    svd.fit(trainset)\n",
    "    predictions_original = svd.test(testset)\n",
    "    precisions_original, recalls_original = precision_recall_at_k(predictions_original, k=5, threshold=4)"
   ]
  },
  {
   "cell_type": "code",
   "execution_count": 11,
   "metadata": {},
   "outputs": [
    {
     "name": "stdout",
     "output_type": "stream",
     "text": [
      "Precision :  0.8735595616825728\n",
      "Recall :  0.26859364376782935\n"
     ]
    }
   ],
   "source": [
    "# Precision and recall can then be averaged over all users\n",
    "print(\"Precision : \", sum(prec for prec in precisions_original.values()) / len(precisions_original))\n",
    "print(\"Recall : \", sum(rec for rec in recalls_original.values()) / len(recalls_original))"
   ]
  },
  {
   "cell_type": "markdown",
   "metadata": {},
   "source": [
    "## ALS"
   ]
  },
  {
   "cell_type": "code",
   "execution_count": 12,
   "metadata": {},
   "outputs": [
    {
     "name": "stdout",
     "output_type": "stream",
     "text": [
      "Estimating biases using als...\n",
      "RMSE: 0.5169\n"
     ]
    },
    {
     "data": {
      "text/plain": [
       "0.5169349211295566"
      ]
     },
     "execution_count": 12,
     "metadata": {},
     "output_type": "execute_result"
    }
   ],
   "source": [
    "trainset3 = data.build_full_trainset()\n",
    "testset3 = trainset1.build_anti_testset()\n",
    "from surprise import BaselineOnly\n",
    "bsl_options = {'method': 'als','n_epochs': 1000}\n",
    "als = BaselineOnly(bsl_options=bsl_options)\n",
    "als.fit(trainset3)\n",
    "predictions3 = als.test(testset3)\n",
    "accuracy.rmse(predictions3)"
   ]
  },
  {
   "cell_type": "code",
   "execution_count": 13,
   "metadata": {},
   "outputs": [
    {
     "name": "stdout",
     "output_type": "stream",
     "text": [
      "Estimating biases using als...\n",
      "Estimating biases using als...\n",
      "Estimating biases using als...\n",
      "Estimating biases using als...\n",
      "Estimating biases using als...\n"
     ]
    }
   ],
   "source": [
    "for trainset, testset in kf.split(data):\n",
    "    als.fit(trainset)\n",
    "    predictions_original = als.test(testset)\n",
    "    precisions_original, recalls_original = precision_recall_at_k(predictions_original, k=5, threshold=4)"
   ]
  },
  {
   "cell_type": "code",
   "execution_count": 14,
   "metadata": {},
   "outputs": [
    {
     "name": "stdout",
     "output_type": "stream",
     "text": [
      "Precision :  0.8861641896673742\n",
      "Recall :  0.22524227660379637\n"
     ]
    }
   ],
   "source": [
    "# Precision and recall can then be averaged over all users\n",
    "print(\"Precision : \", sum(prec for prec in precisions_original.values()) / len(precisions_original))\n",
    "print(\"Recall : \", sum(rec for rec in recalls_original.values()) / len(recalls_original))"
   ]
  }
 ],
 "metadata": {
  "kernelspec": {
   "display_name": "Python 3",
   "language": "python",
   "name": "python3"
  },
  "language_info": {
   "codemirror_mode": {
    "name": "ipython",
    "version": 3
   },
   "file_extension": ".py",
   "mimetype": "text/x-python",
   "name": "python",
   "nbconvert_exporter": "python",
   "pygments_lexer": "ipython3",
   "version": "3.6.4"
  }
 },
 "nbformat": 4,
 "nbformat_minor": 2
}
